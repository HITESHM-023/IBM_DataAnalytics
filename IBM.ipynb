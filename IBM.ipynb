{
 "cells": [
  {
   "cell_type": "markdown",
   "id": "edbba5f0",
   "metadata": {},
   "source": [
    "# Data Science Notebook\n"
   ]
  },
  {
   "cell_type": "markdown",
   "id": "38b12bc9",
   "metadata": {},
   "source": [
    "## Introduction\n",
    "Welcome to the Data Science Notebook! In this notebook, we will explore various concepts and tools used in the field of data science."
   ]
  },
  {
   "cell_type": "markdown",
   "id": "8d1d9b0f",
   "metadata": {},
   "source": [
    "## Data Science Languages\n",
    "1. Python\n",
    "2. R\n",
    "3. SQL\n"
   ]
  },
  {
   "cell_type": "markdown",
   "id": "c7c63a80",
   "metadata": {},
   "source": [
    "## Data Science Libraries\n",
    "1. Pandas\n",
    "2. NumPy\n",
    "3. Matplotlib\n"
   ]
  },
  {
   "cell_type": "markdown",
   "id": "e10ce46e",
   "metadata": {},
   "source": [
    "## Data Science Tools\n",
    "\n",
    "| Tool        | Description                              |\n",
    "|-------------|------------------------------------------|\n",
    "| Jupyter     | Interactive computing environment        |\n",
    "| TensorFlow  | Machine learning library                  |\n",
    "| Tableau     | Data visualization tool                   |\n"
   ]
  },
  {
   "cell_type": "markdown",
   "id": "aafc707e",
   "metadata": {},
   "source": [
    "## Arithmetic Expressions\n",
    "Let's explore some arithmetic expressions in Python.\n"
   ]
  },
  {
   "cell_type": "markdown",
   "id": "3a358566",
   "metadata": {},
   "source": [
    "# Multiply and add numbers\n",
    "a = 5\n",
    "b = 3\n",
    "product = a * b\n",
    "sum_ab = a + b\n",
    "print(\"Product:\", product)\n",
    "print(\"Sum:\", sum_ab)\n"
   ]
  },
  {
   "cell_type": "markdown",
   "id": "b78df94b",
   "metadata": {},
   "source": [
    "# Convert minutes to hours\n",
    "minutes = 120\n",
    "hours = minutes / 60\n",
    "print(\"Hours:\", hours)\n"
   ]
  },
  {
   "cell_type": "markdown",
   "id": "03607d89",
   "metadata": {},
   "source": [
    "## Objectives\n",
    "- Learn about different data science languages and libraries.\n",
    "- Explore various data science tools and their applications.\n",
    "- Practice arithmetic expressions and conversions.\n"
   ]
  },
  {
   "cell_type": "markdown",
   "id": "fc787998",
   "metadata": {},
   "source": [
    "## Author\n",
    "John Doe\n"
   ]
  }
 ],
 "metadata": {
  "kernelspec": {
   "display_name": "Python 3 (ipykernel)",
   "language": "python",
   "name": "python3"
  },
  "language_info": {
   "codemirror_mode": {
    "name": "ipython",
    "version": 3
   },
   "file_extension": ".py",
   "mimetype": "text/x-python",
   "name": "python",
   "nbconvert_exporter": "python",
   "pygments_lexer": "ipython3",
   "version": "3.11.5"
  }
 },
 "nbformat": 4,
 "nbformat_minor": 5
}
